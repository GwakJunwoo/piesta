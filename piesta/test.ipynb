{
 "cells": [
  {
   "cell_type": "code",
   "execution_count": 1,
   "metadata": {},
   "outputs": [],
   "source": [
    "import numpy as np\n",
    "import pandas as pd\n",
    "from typing import List, Optional, Dict, DefaultDict"
   ]
  },
  {
   "cell_type": "code",
   "execution_count": 3,
   "metadata": {},
   "outputs": [],
   "source": [
    "dict_universe = DefaultDict()\n",
    "level_1 = ['Stock', 'Bond', 'Alternative', 'Commodity', 'Currency', 'Crypto']\n",
    "for asset in level_1:\n",
    "    dict_universe[asset] = DefaultDict()"
   ]
  },
  {
   "cell_type": "code",
   "execution_count": 13,
   "metadata": {},
   "outputs": [],
   "source": [
    "dict_universe = dict()\n",
    "#['Gold', 'Silver', 'Steel', 'Oil', 'Copper', 'Gas', 'Corn']\n",
    "\n",
    "level_1 = ['Stock', 'Bond', 'Alternative', 'Commodity', 'Currency']\n",
    "level_2 = [['Korea', 'US', 'Europe', 'Japan', 'China'], \n",
    "            ['Developed', 'Emerging'], \n",
    "            ['Real estate', 'Hedge fund'],\n",
    "            ['Metal', 'Grains', 'Energy'],\n",
    "            ['USDKRW', 'USDJPY', 'USDEUR']]\n",
    "sample_size = len(level_1) * len(level_2) * 2\n",
    "sample_num = 0\n",
    "\n",
    "for i, l1 in enumerate(level_1):\n",
    "    tmp_dict = dict()\n",
    "    for j, l2 in enumerate(level_2[i]):\n",
    "        tmp_dict[l2] = [f'Ticker_{sample_num}', f'Ticker_{sample_num + 1}']\n",
    "        sample_num += 2\n",
    "    dict_universe[l1] = tmp_dict"
   ]
  },
  {
   "cell_type": "code",
   "execution_count": 14,
   "metadata": {},
   "outputs": [
    {
     "data": {
      "text/plain": [
       "{'Stock': {'Korea': ['Ticker_0', 'Ticker_1'],\n",
       "  'US': ['Ticker_2', 'Ticker_3'],\n",
       "  'Europe': ['Ticker_4', 'Ticker_5'],\n",
       "  'Japan': ['Ticker_6', 'Ticker_7'],\n",
       "  'China': ['Ticker_8', 'Ticker_9']},\n",
       " 'Bond': {'Developed': ['Ticker_10', 'Ticker_11'],\n",
       "  'Emerging': ['Ticker_12', 'Ticker_13']},\n",
       " 'Alternative': {'Real estate': ['Ticker_14', 'Ticker_15'],\n",
       "  'Hedge fund': ['Ticker_16', 'Ticker_17']},\n",
       " 'Commodity': {'Metal': ['Ticker_18', 'Ticker_19'],\n",
       "  'Grains': ['Ticker_20', 'Ticker_21'],\n",
       "  'Energy': ['Ticker_22', 'Ticker_23']},\n",
       " 'Currency': {'USDKRW': ['Ticker_24', 'Ticker_25'],\n",
       "  'USDJPY': ['Ticker_26', 'Ticker_27'],\n",
       "  'USDEUR': ['Ticker_28', 'Ticker_29']}}"
      ]
     },
     "execution_count": 14,
     "metadata": {},
     "output_type": "execute_result"
    }
   ],
   "source": [
    "dict_universe"
   ]
  },
  {
   "cell_type": "code",
   "execution_count": null,
   "metadata": {},
   "outputs": [],
   "source": []
  }
 ],
 "metadata": {
  "kernelspec": {
   "display_name": "py38",
   "language": "python",
   "name": "python3"
  },
  "language_info": {
   "codemirror_mode": {
    "name": "ipython",
    "version": 3
   },
   "file_extension": ".py",
   "mimetype": "text/x-python",
   "name": "python",
   "nbconvert_exporter": "python",
   "pygments_lexer": "ipython3",
   "version": "3.8.13"
  },
  "orig_nbformat": 4
 },
 "nbformat": 4,
 "nbformat_minor": 2
}
